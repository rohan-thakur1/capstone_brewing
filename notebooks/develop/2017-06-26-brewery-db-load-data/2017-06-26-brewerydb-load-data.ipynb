{
 "cells": [
  {
   "cell_type": "markdown",
   "metadata": {},
   "source": [
    "# In this Notebook"
   ]
  },
  {
   "cell_type": "markdown",
   "metadata": {},
   "source": [
    "Extract data from BreweryDB using the site's premium API."
   ]
  },
  {
   "cell_type": "markdown",
   "metadata": {},
   "source": [
    "# Setup"
   ]
  },
  {
   "cell_type": "code",
   "execution_count": 1,
   "metadata": {
    "collapsed": true
   },
   "outputs": [],
   "source": [
    "import csv\n",
    "from datetime import datetime\n",
    "import json\n",
    "from Queue import Queue\n",
    "import string\n",
    "from threading import Thread\n",
    "\n",
    "from ipywidgets import FloatProgress\n",
    "from IPython.display import display\n",
    "import numpy as np\n",
    "import pandas as pd\n",
    "\n",
    "from creds import apikey"
   ]
  },
  {
   "cell_type": "code",
   "execution_count": 2,
   "metadata": {
    "collapsed": true
   },
   "outputs": [],
   "source": [
    "import requests\n",
    "\n",
    "DEFAULT_BASE_URI = \"http://api.brewerydb.com/v2\"\n",
    "BASE_URI = \"\"\n",
    "API_KEY = \"\"\n",
    "\n",
    "simple_endpoints = [\"beers\", \"breweries\", \"categories\", \"events\",\n",
    "                    \"featured\", \"features\", \"fluidsizes\", \"glassware\",\n",
    "                    \"locations\", \"guilds\", \"heartbeat\", \"ingredients\",\n",
    "                    \"search\", \"search/upc\", \"socialsites\", \"styles\"]\n",
    "\n",
    "single_param_endpoints = [\"beer\", \"brewery\", \"category\", \"event\",\n",
    "                          \"feature\", \"glass\", \"guild\", \"ingredient\",\n",
    "                          \"location\", \"socialsite\", \"style\", \"menu\"]\n",
    "\n",
    "class BreweryDb:\n",
    "\n",
    "    @staticmethod\n",
    "    def __make_simple_endpoint_fun(name):\n",
    "        @staticmethod\n",
    "        def _function(options={}):\n",
    "            return BreweryDb._get(\"/\" + name, options)\n",
    "        return _function\n",
    "\n",
    "    @staticmethod\n",
    "    def __make_singlearg_endpoint_fun(name):\n",
    "        @staticmethod\n",
    "        def _function(id, options={}):\n",
    "            return BreweryDb._get(\"/\" + name + \"/\" + id, options)\n",
    "        return _function\n",
    "\n",
    "    @staticmethod\n",
    "    def _get(request, options):\n",
    "        options.update({\"key\" : BreweryDb.API_KEY})\n",
    "        r = requests.get(BreweryDb.BASE_URI + request, params=options)\n",
    "        #print r.request.url\n",
    "        return r.json()\n",
    "\n",
    "    @staticmethod\n",
    "    def configure(apikey, baseuri=DEFAULT_BASE_URI):\n",
    "        BreweryDb.API_KEY = apikey\n",
    "        BreweryDb.BASE_URI = baseuri\n",
    "        for endpoint in simple_endpoints:\n",
    "            fun = BreweryDb.__make_simple_endpoint_fun(endpoint)\n",
    "            setattr(BreweryDb, endpoint.replace('/', '_'), fun)\n",
    "        for endpoint in single_param_endpoints:\n",
    "            fun = BreweryDb.__make_singlearg_endpoint_fun(endpoint)\n",
    "            setattr(BreweryDb, endpoint.replace('/', '_'), fun)"
   ]
  },
  {
   "cell_type": "markdown",
   "metadata": {},
   "source": [
    "# Extract Data"
   ]
  },
  {
   "cell_type": "code",
   "execution_count": 3,
   "metadata": {
    "collapsed": true
   },
   "outputs": [],
   "source": [
    "BreweryDb.configure(apikey)"
   ]
  },
  {
   "cell_type": "markdown",
   "metadata": {
    "heading_collapsed": true
   },
   "source": [
    "## Brewery Data"
   ]
  },
  {
   "cell_type": "code",
   "execution_count": null,
   "metadata": {
    "collapsed": true,
    "hidden": true
   },
   "outputs": [],
   "source": [
    "# get number of pages\n",
    "pages = BreweryDb.breweries()[u'numberOfPages']\n",
    "\n",
    "# get breweries data\n",
    "breweries = []\n",
    "for page in range(1, pages+1):\n",
    "    b = BreweryDb.breweries({'p': page})\n",
    "    breweries.extend(b['data'])"
   ]
  },
  {
   "cell_type": "code",
   "execution_count": null,
   "metadata": {
    "collapsed": true,
    "hidden": true
   },
   "outputs": [],
   "source": [
    "len(breweries)"
   ]
  },
  {
   "cell_type": "code",
   "execution_count": null,
   "metadata": {
    "collapsed": true,
    "hidden": true
   },
   "outputs": [],
   "source": [
    "breweries = pd.DataFrame(breweries)\n",
    "breweries.reset_index()"
   ]
  },
  {
   "cell_type": "code",
   "execution_count": null,
   "metadata": {
    "collapsed": true,
    "hidden": true
   },
   "outputs": [],
   "source": [
    "breweries.to_csv('../../../data/brewery-db/breweries.csv', quoting=csv.QUOTE_NONNUMERIC, encoding='utf-8', index=False)"
   ]
  },
  {
   "cell_type": "markdown",
   "metadata": {},
   "source": [
    "## Beer Data"
   ]
  },
  {
   "cell_type": "code",
   "execution_count": 4,
   "metadata": {},
   "outputs": [
    {
     "data": {
      "application/vnd.jupyter.widget-view+json": {
       "model_id": "1bce9fb88ce0433aa064f6753c82fc0b"
      }
     },
     "metadata": {},
     "output_type": "display_data"
    },
    {
     "name": "stdout",
     "output_type": "stream",
     "text": [
      "*** Done\n"
     ]
    }
   ],
   "source": [
    "# global variables\n",
    "num_fetch_threads = 10\n",
    "errors = []\n",
    "queue = Queue()\n",
    "\n",
    "# get number of pages\n",
    "pages = BreweryDb.beers()[u'numberOfPages']\n",
    "\n",
    "# build queue\n",
    "for page in range(pages):\n",
    "    q = page + 1\n",
    "    queue.put(q)\n",
    "    \n",
    "# encode strings with utf-8\n",
    "def encode_str(x):\n",
    "    return str(x).encode('utf-8')\n",
    "\n",
    "# encode all string columns\n",
    "def clean_row(x):\n",
    "    for c in x.keys():\n",
    "        if isinstance(c, str):\n",
    "            x[c] = encode_str(x[c])\n",
    "    return x\n",
    "\n",
    "\n",
    "# set up beers download progress bar\n",
    "p = FloatProgress(min=0, max=queue.qsize(), description=\"Downloading beers\")\n",
    "display(p)\n",
    "\n",
    "# define worker\n",
    "def get_beers(i, q):\n",
    "    while True:\n",
    "        try:\n",
    "            beers = []\n",
    "            page = q.get() \n",
    "            # get beer data\n",
    "            beers = BreweryDb.beers({'p': page, 'withBreweries': 'Y', 'withSocialAccounts': 'Y', 'withIngredients': 'Y'})\n",
    "            with open('../../../data/brewery-db/%s.json' % page, 'w') as f:\n",
    "                json.dump(beers, f, indent=4)\n",
    "            \n",
    "        except Exception as e: \n",
    "            errors.append(dict(page=page, error=str(e)))\n",
    "            pass\n",
    "        p.value += 1\n",
    "        q.task_done()\n",
    "\n",
    "# open threads\n",
    "for i in range(num_fetch_threads):\n",
    "    worker = Thread(target=get_beers, args=(i, queue,))\n",
    "    worker.setDaemon(True)\n",
    "    worker.start()\n",
    "\n",
    "# start task queue\n",
    "queue.join()\n",
    "\n",
    "# send errors to csv\n",
    "errors = pd.DataFrame(errors)\n",
    "errors.to_csv('../../../data/brewery-db/beer-errors-1.csv', index=False, quoting=csv.QUOTE_NONNUMERIC)\n",
    "\n",
    "print '*** Done'"
   ]
  },
  {
   "cell_type": "code",
   "execution_count": null,
   "metadata": {
    "collapsed": true
   },
   "outputs": [],
   "source": []
  }
 ],
 "metadata": {
  "hide_input": false,
  "kernelspec": {
   "display_name": "Python 2",
   "language": "python",
   "name": "python2"
  },
  "language_info": {
   "codemirror_mode": {
    "name": "ipython",
    "version": 2
   },
   "file_extension": ".py",
   "mimetype": "text/x-python",
   "name": "python",
   "nbconvert_exporter": "python",
   "pygments_lexer": "ipython2",
   "version": "2.7.13"
  },
  "latex_envs": {
   "LaTeX_envs_menu_present": true,
   "autocomplete": true,
   "bibliofile": "biblio.bib",
   "cite_by": "apalike",
   "current_citInitial": 1,
   "eqLabelWithNumbers": true,
   "eqNumInitial": 1,
   "hotkeys": {
    "equation": "Ctrl-E",
    "itemize": "Ctrl-I"
   },
   "labels_anchors": false,
   "latex_user_defs": false,
   "report_style_numbering": false,
   "user_envs_cfg": false
  },
  "toc": {
   "colors": {
    "hover_highlight": "#DAA520",
    "navigate_num": "#000000",
    "navigate_text": "#333333",
    "running_highlight": "#FF0000",
    "selected_highlight": "#FFD700",
    "sidebar_border": "#EEEEEE",
    "wrapper_background": "#FFFFFF"
   },
   "moveMenuLeft": true,
   "nav_menu": {
    "height": "83px",
    "width": "252px"
   },
   "navigate_menu": true,
   "number_sections": true,
   "sideBar": true,
   "threshold": 4,
   "toc_cell": false,
   "toc_section_display": "block",
   "toc_window_display": false,
   "widenNotebook": false
  }
 },
 "nbformat": 4,
 "nbformat_minor": 2
}
