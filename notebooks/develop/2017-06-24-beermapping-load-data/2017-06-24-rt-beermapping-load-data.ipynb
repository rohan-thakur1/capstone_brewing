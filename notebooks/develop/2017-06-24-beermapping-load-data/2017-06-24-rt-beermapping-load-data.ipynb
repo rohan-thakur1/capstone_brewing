{
 "cells": [
  {
   "cell_type": "code",
   "execution_count": 45,
   "metadata": {},
   "outputs": [],
   "source": [
    "import urllib.request as u\n",
    "import string as s\n",
    "import xml.etree.ElementTree as ET\n",
    "import pandas as pd"
   ]
  },
  {
   "cell_type": "code",
   "execution_count": 46,
   "metadata": {
    "collapsed": true
   },
   "outputs": [],
   "source": [
    "def xml2df(xml_data):\n",
    "    root = ET.XML(xml_data) # element tree\n",
    "    all_records = []\n",
    "    for i, child in enumerate(root):\n",
    "        record = {}\n",
    "        for subchild in child:\n",
    "            record[subchild.tag] = subchild.text\n",
    "            all_records.append(record)\n",
    "    return pd.DataFrame(all_records)"
   ]
  },
  {
   "cell_type": "code",
   "execution_count": 50,
   "metadata": {},
   "outputs": [
    {
     "name": "stdout",
     "output_type": "stream",
     "text": [
      "AL\n",
      "AK\n",
      "AZ\n",
      "AR\n",
      "CA\n"
     ]
    },
    {
     "ename": "ParseError",
     "evalue": "undefined entity: line 1, column 45 (<string>)",
     "output_type": "error",
     "traceback": [
      "Traceback \u001b[0;36m(most recent call last)\u001b[0m:\n",
      "  File \u001b[1;32m\"/Library/Frameworks/Python.framework/Versions/3.6/lib/python3.6/site-packages/IPython/core/interactiveshell.py\"\u001b[0m, line \u001b[1;32m2862\u001b[0m, in \u001b[1;35mrun_code\u001b[0m\n    exec(code_obj, self.user_global_ns, self.user_ns)\n",
      "  File \u001b[1;32m\"<ipython-input-50-22b889d81816>\"\u001b[0m, line \u001b[1;32m19\u001b[0m, in \u001b[1;35m<module>\u001b[0m\n    df_parsed.append(xml2df(xml_data))\n",
      "  File \u001b[1;32m\"<ipython-input-46-ded9b24e833f>\"\u001b[0m, line \u001b[1;32m2\u001b[0m, in \u001b[1;35mxml2df\u001b[0m\n    root = ET.XML(xml_data) # element tree\n",
      "\u001b[0;36m  File \u001b[0;32m\"/Library/Frameworks/Python.framework/Versions/3.6/lib/python3.6/xml/etree/ElementTree.py\"\u001b[0;36m, line \u001b[0;32m1314\u001b[0;36m, in \u001b[0;35mXML\u001b[0;36m\u001b[0m\n\u001b[0;31m    parser.feed(text)\u001b[0m\n",
      "\u001b[0;36m  File \u001b[0;32m\"<string>\"\u001b[0;36m, line \u001b[0;32munknown\u001b[0m\n\u001b[0;31mParseError\u001b[0m\u001b[0;31m:\u001b[0m undefined entity: line 1, column 45\n"
     ]
    }
   ],
   "source": [
    "API_KEY = '39e5e12ab391034227fa825c0e93e4b5'\n",
    "url_request_start = 'http://beermapping.com/webservice/locstate/'\n",
    "states = [\"AL\", \"AK\", \"AZ\", \"AR\", \"CA\", \"CO\", \"CT\", \"DC\", \"DE\", \"FL\", \"GA\", \n",
    "          \"HI\", \"ID\", \"IL\", \"IN\", \"IA\", \"KS\", \"KY\", \"LA\", \"ME\", \"MD\", \n",
    "          \"MA\", \"MI\", \"MN\", \"MS\", \"MO\", \"MT\", \"NE\", \"NV\", \"NH\", \"NJ\", \n",
    "          \"NM\", \"NY\", \"NC\", \"ND\", \"OH\", \"OK\", \"OR\", \"PA\", \"RI\", \"SC\", \n",
    "          \"SD\", \"TN\", \"TX\", \"UT\", \"VT\", \"VA\", \"WA\", \"WV\", \"WI\", \"WY\"]\n",
    "\n",
    "for i, state in enumerate(states):\n",
    "    print(state)\n",
    "    url = url_request_start+API_KEY+'/'+state\n",
    "    request = u.Request(url)\n",
    "    response_raw = str(u.urlopen(request).read())\n",
    "    response_formatted = response_raw[response_raw.find('<bmp_locations>'):-1]\n",
    "    xml_data = response_formatted\n",
    "    if i==0:\n",
    "        df_parsed = xml2df(xml_data)\n",
    "    else:\n",
    "        df_parsed.append(xml2df(xml_data))\n",
    "\n",
    "with pd.option_context('display.max_rows', None, 'display.max_columns', 3):\n",
    "    print(df_parsed.head(n=5))"
   ]
  },
  {
   "cell_type": "code",
   "execution_count": 44,
   "metadata": {},
   "outputs": [
    {
     "name": "stdout",
     "output_type": "stream",
     "text": [
      "['blogmap', 'city', 'country', 'id', 'imagecount', 'name', 'overall', 'phone', 'proxylink', 'reviewlink', 'state', 'status', 'street', 'zip']\n",
      "0    http://beermapping.com/maps/blogproxy.php?loci...\n",
      "1    http://beermapping.com/maps/blogproxy.php?loci...\n",
      "2    http://beermapping.com/maps/blogproxy.php?loci...\n",
      "3    http://beermapping.com/maps/blogproxy.php?loci...\n",
      "4    http://beermapping.com/maps/blogproxy.php?loci...\n",
      "Name: blogmap, dtype: object\n"
     ]
    }
   ],
   "source": [
    "\n",
    "\n",
    "#cols = list(df_parsed.columns.values)\n",
    "#print(cols)\n",
    "\n",
    "#with pd.option_context('display.max_rows', None, 'display.max_columns', 3):\n",
    "#    print(df_parsed[cols[0]].head(n=5))"
   ]
  },
  {
   "cell_type": "code",
   "execution_count": null,
   "metadata": {
    "collapsed": true
   },
   "outputs": [],
   "source": []
  }
 ],
 "metadata": {
  "kernelspec": {
   "display_name": "Python 3",
   "language": "python",
   "name": "python3"
  },
  "language_info": {
   "codemirror_mode": {
    "name": "ipython",
    "version": 3
   },
   "file_extension": ".py",
   "mimetype": "text/x-python",
   "name": "python",
   "nbconvert_exporter": "python",
   "pygments_lexer": "ipython3",
   "version": "3.6.1"
  }
 },
 "nbformat": 4,
 "nbformat_minor": 2
}
