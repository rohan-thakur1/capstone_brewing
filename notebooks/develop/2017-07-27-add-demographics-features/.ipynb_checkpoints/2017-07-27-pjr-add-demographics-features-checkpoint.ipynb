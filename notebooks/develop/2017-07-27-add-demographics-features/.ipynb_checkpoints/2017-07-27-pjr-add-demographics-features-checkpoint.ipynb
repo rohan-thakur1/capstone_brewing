{
 "cells": [
  {
   "cell_type": "markdown",
   "metadata": {},
   "source": [
    "# In This Notebook"
   ]
  },
  {
   "cell_type": "markdown",
   "metadata": {},
   "source": [
    "The population analytics data set would benefit from some additional features. \n",
    "\n",
    "**N.B. THE DATA DIRECTORY NEEDS TO BE RECREATED WITH THE NECESSARY DATA FILES COPIED FROM THE MASTER 'data' FOLDER, WHICH IS ON THE SAME LEVEL AS THE 'Notebooks' DIRECTORY.**\n"
   ]
  },
  {
   "cell_type": "markdown",
   "metadata": {},
   "source": [
    "# Setup"
   ]
  },
  {
   "cell_type": "code",
   "execution_count": 5,
   "metadata": {
    "collapsed": true
   },
   "outputs": [],
   "source": [
    "import os\n",
    "import sys\n",
    "\n",
    "import numpy as np\n",
    "import pandas as pd"
   ]
  },
  {
   "cell_type": "code",
   "execution_count": 27,
   "metadata": {
    "collapsed": true
   },
   "outputs": [],
   "source": [
    "pd.options.display.max_rows = 999\n",
    "pd.options.display.max_columns = 999"
   ]
  },
  {
   "cell_type": "markdown",
   "metadata": {},
   "source": [
    "# Load Data"
   ]
  },
  {
   "cell_type": "code",
   "execution_count": 28,
   "metadata": {
    "collapsed": true
   },
   "outputs": [],
   "source": [
    "datapath = './data'\n",
    "# load population-eda.csv\n",
    "pfile = os.path.join(datapath, 'pop_eda.csv')\n",
    "pop = pd.read_csv(pfile, index_col=0)\n",
    "pop.name = 'population-data'\n",
    "\n",
    "# load income-data.csv\n",
    "ifile = os.path.join(datapath, 'income-data.csv')\n",
    "inc = pd.read_csv(ifile)\n",
    "inc.name = 'income-data'\n",
    "\n",
    "# load social-data.csv\n",
    "sfile = os.path.join(datapath, 'social-data.csv')\n",
    "soc = pd.read_csv(sfile)\n",
    "soc.name = 'social-data'\n",
    "\n",
    "# load education-data.csv\n",
    "efile = os.path.join(datapath, 'education-data.csv')\n",
    "edu = pd.read_csv(efile)\n",
    "edu.name = 'education-data'"
   ]
  },
  {
   "cell_type": "code",
   "execution_count": 29,
   "metadata": {},
   "outputs": [
    {
     "data": {
      "text/html": [
       "<div>\n",
       "<style>\n",
       "    .dataframe thead tr:only-child th {\n",
       "        text-align: right;\n",
       "    }\n",
       "\n",
       "    .dataframe thead th {\n",
       "        text-align: left;\n",
       "    }\n",
       "\n",
       "    .dataframe tbody tr th {\n",
       "        vertical-align: top;\n",
       "    }\n",
       "</style>\n",
       "<table border=\"1\" class=\"dataframe\">\n",
       "  <thead>\n",
       "    <tr style=\"text-align: right;\">\n",
       "      <th></th>\n",
       "      <th>year</th>\n",
       "      <th>total_m</th>\n",
       "      <th>total_f</th>\n",
       "      <th>under_18_m</th>\n",
       "      <th>x18_to_29_m</th>\n",
       "      <th>x30_to_49_m</th>\n",
       "      <th>x50_to_64_m</th>\n",
       "      <th>x65_plus_m</th>\n",
       "      <th>under_18_f</th>\n",
       "      <th>x18_to_29_f</th>\n",
       "      <th>x30_to_49_f</th>\n",
       "      <th>x50_to_64_f</th>\n",
       "      <th>x65_plus_f</th>\n",
       "      <th>post_code</th>\n",
       "      <th>loc_id</th>\n",
       "      <th>lat</th>\n",
       "      <th>long</th>\n",
       "      <th>city</th>\n",
       "      <th>state</th>\n",
       "      <th>zip_code</th>\n",
       "      <th>num_employees</th>\n",
       "      <th>num_breweries</th>\n",
       "    </tr>\n",
       "  </thead>\n",
       "  <tbody>\n",
       "    <tr>\n",
       "      <th>1</th>\n",
       "      <td>2011</td>\n",
       "      <td>22989</td>\n",
       "      <td>24480</td>\n",
       "      <td>10460</td>\n",
       "      <td>7190</td>\n",
       "      <td>10544</td>\n",
       "      <td>4975</td>\n",
       "      <td>2297</td>\n",
       "      <td>9970</td>\n",
       "      <td>7044</td>\n",
       "      <td>10947</td>\n",
       "      <td>5934</td>\n",
       "      <td>2973</td>\n",
       "      <td>147.0</td>\n",
       "      <td>2737.0</td>\n",
       "      <td>18.180103</td>\n",
       "      <td>-66.74947</td>\n",
       "      <td>Adjuntas</td>\n",
       "      <td>PR</td>\n",
       "      <td>601</td>\n",
       "      <td>NaN</td>\n",
       "      <td>NaN</td>\n",
       "    </tr>\n",
       "    <tr>\n",
       "      <th>2</th>\n",
       "      <td>2012</td>\n",
       "      <td>23166</td>\n",
       "      <td>24426</td>\n",
       "      <td>10365</td>\n",
       "      <td>7208</td>\n",
       "      <td>10512</td>\n",
       "      <td>5070</td>\n",
       "      <td>2402</td>\n",
       "      <td>9867</td>\n",
       "      <td>7008</td>\n",
       "      <td>10901</td>\n",
       "      <td>5972</td>\n",
       "      <td>3058</td>\n",
       "      <td>147.0</td>\n",
       "      <td>2737.0</td>\n",
       "      <td>18.180103</td>\n",
       "      <td>-66.74947</td>\n",
       "      <td>Adjuntas</td>\n",
       "      <td>PR</td>\n",
       "      <td>601</td>\n",
       "      <td>NaN</td>\n",
       "      <td>NaN</td>\n",
       "    </tr>\n",
       "    <tr>\n",
       "      <th>3</th>\n",
       "      <td>2013</td>\n",
       "      <td>23001</td>\n",
       "      <td>24389</td>\n",
       "      <td>10279</td>\n",
       "      <td>7144</td>\n",
       "      <td>10557</td>\n",
       "      <td>5085</td>\n",
       "      <td>2157</td>\n",
       "      <td>9817</td>\n",
       "      <td>6971</td>\n",
       "      <td>10840</td>\n",
       "      <td>5994</td>\n",
       "      <td>3181</td>\n",
       "      <td>147.0</td>\n",
       "      <td>2737.0</td>\n",
       "      <td>18.180103</td>\n",
       "      <td>-66.74947</td>\n",
       "      <td>Adjuntas</td>\n",
       "      <td>PR</td>\n",
       "      <td>601</td>\n",
       "      <td>NaN</td>\n",
       "      <td>NaN</td>\n",
       "    </tr>\n",
       "    <tr>\n",
       "      <th>4</th>\n",
       "      <td>2014</td>\n",
       "      <td>22849</td>\n",
       "      <td>24194</td>\n",
       "      <td>10165</td>\n",
       "      <td>6924</td>\n",
       "      <td>10492</td>\n",
       "      <td>5118</td>\n",
       "      <td>2443</td>\n",
       "      <td>9713</td>\n",
       "      <td>6940</td>\n",
       "      <td>10772</td>\n",
       "      <td>5979</td>\n",
       "      <td>3170</td>\n",
       "      <td>147.0</td>\n",
       "      <td>2737.0</td>\n",
       "      <td>18.180103</td>\n",
       "      <td>-66.74947</td>\n",
       "      <td>Adjuntas</td>\n",
       "      <td>PR</td>\n",
       "      <td>601</td>\n",
       "      <td>NaN</td>\n",
       "      <td>NaN</td>\n",
       "    </tr>\n",
       "    <tr>\n",
       "      <th>5</th>\n",
       "      <td>2015</td>\n",
       "      <td>22815</td>\n",
       "      <td>24130</td>\n",
       "      <td>10071</td>\n",
       "      <td>6938</td>\n",
       "      <td>10421</td>\n",
       "      <td>5166</td>\n",
       "      <td>1685</td>\n",
       "      <td>9657</td>\n",
       "      <td>6837</td>\n",
       "      <td>10771</td>\n",
       "      <td>6005</td>\n",
       "      <td>3202</td>\n",
       "      <td>147.0</td>\n",
       "      <td>2737.0</td>\n",
       "      <td>18.180103</td>\n",
       "      <td>-66.74947</td>\n",
       "      <td>Adjuntas</td>\n",
       "      <td>PR</td>\n",
       "      <td>601</td>\n",
       "      <td>NaN</td>\n",
       "      <td>NaN</td>\n",
       "    </tr>\n",
       "  </tbody>\n",
       "</table>\n",
       "</div>"
      ],
      "text/plain": [
       "   year  total_m  total_f  under_18_m  x18_to_29_m  x30_to_49_m  x50_to_64_m  \\\n",
       "1  2011    22989    24480       10460         7190        10544         4975   \n",
       "2  2012    23166    24426       10365         7208        10512         5070   \n",
       "3  2013    23001    24389       10279         7144        10557         5085   \n",
       "4  2014    22849    24194       10165         6924        10492         5118   \n",
       "5  2015    22815    24130       10071         6938        10421         5166   \n",
       "\n",
       "   x65_plus_m  under_18_f  x18_to_29_f  x30_to_49_f  x50_to_64_f  x65_plus_f  \\\n",
       "1        2297        9970         7044        10947         5934        2973   \n",
       "2        2402        9867         7008        10901         5972        3058   \n",
       "3        2157        9817         6971        10840         5994        3181   \n",
       "4        2443        9713         6940        10772         5979        3170   \n",
       "5        1685        9657         6837        10771         6005        3202   \n",
       "\n",
       "   post_code  loc_id        lat      long      city state  zip_code  \\\n",
       "1      147.0  2737.0  18.180103 -66.74947  Adjuntas    PR       601   \n",
       "2      147.0  2737.0  18.180103 -66.74947  Adjuntas    PR       601   \n",
       "3      147.0  2737.0  18.180103 -66.74947  Adjuntas    PR       601   \n",
       "4      147.0  2737.0  18.180103 -66.74947  Adjuntas    PR       601   \n",
       "5      147.0  2737.0  18.180103 -66.74947  Adjuntas    PR       601   \n",
       "\n",
       "  num_employees  num_breweries  \n",
       "1           NaN            NaN  \n",
       "2           NaN            NaN  \n",
       "3           NaN            NaN  \n",
       "4           NaN            NaN  \n",
       "5           NaN            NaN  "
      ]
     },
     "execution_count": 29,
     "metadata": {},
     "output_type": "execute_result"
    }
   ],
   "source": [
    "pop.head()"
   ]
  },
  {
   "cell_type": "code",
   "execution_count": 30,
   "metadata": {},
   "outputs": [
    {
     "name": "stdout",
     "output_type": "stream",
     "text": [
      "population-data\n",
      "----------------------------------------------------------------------\n",
      "0: year\n",
      "1: total_m\n",
      "2: total_f\n",
      "3: under_18_m\n",
      "4: x18_to_29_m\n",
      "5: x30_to_49_m\n",
      "6: x50_to_64_m\n",
      "7: x65_plus_m\n",
      "8: under_18_f\n",
      "9: x18_to_29_f\n",
      "10: x30_to_49_f\n",
      "11: x50_to_64_f\n",
      "12: x65_plus_f\n",
      "13: post_code\n",
      "14: loc_id\n",
      "15: lat\n",
      "16: long\n",
      "17: city\n",
      "18: state\n",
      "19: zip_code\n",
      "20: num_employees\n",
      "21: num_breweries\n",
      "\n",
      "\n",
      "income-data\n",
      "----------------------------------------------------------------------\n",
      "0: zip\n",
      "1: num_households\n",
      "2: median_household_income\n",
      "3: pct_white_households\n",
      "4: median_white_household_income\n",
      "5: year\n",
      "\n",
      "\n",
      "social-data\n",
      "----------------------------------------------------------------------\n",
      "0: zip\n",
      "1: num_households\n",
      "2: num_family\n",
      "3: num_married_family\n",
      "4: num_nonfamily\n",
      "5: num_living_alone\n",
      "6: avg_household_size\n",
      "7: avg_family_size\n",
      "8: never_married\n",
      "9: married_but_separated\n",
      "10: separated\n",
      "11: widowed\n",
      "12: divorced\n",
      "13: foreign_born\n",
      "14: us_citizen\n",
      "15: english_speakers\n",
      "16: other_language_speakers\n",
      "17: american_ancestry\n",
      "18: year\n",
      "\n",
      "\n",
      "education-data\n",
      "----------------------------------------------------------------------\n",
      "0: zip\n",
      "1: total\n",
      "2: hs_diploma\n",
      "3: ged\n",
      "4: assoc_degree\n",
      "5: bachelors\n",
      "6: masters\n",
      "7: professional\n",
      "8: doctorate\n",
      "9: year\n",
      "\n",
      "\n"
     ]
    }
   ],
   "source": [
    "frames = [pop, inc, soc, edu]\n",
    "for frame in frames:\n",
    "    print(frame.name)\n",
    "    print('-'*70)\n",
    "    for i,c in enumerate(frame.columns.tolist()):\n",
    "        print('{}: {}'.format(i,c))\n",
    "    print('\\n')"
   ]
  },
  {
   "cell_type": "markdown",
   "metadata": {},
   "source": [
    "# Transform Data"
   ]
  },
  {
   "cell_type": "code",
   "execution_count": 31,
   "metadata": {
    "collapsed": true
   },
   "outputs": [],
   "source": [
    "# convert zip fields to string and zero-pad\n",
    "pop.zip_code = pop.zip_code.apply(lambda x: str(x).zfill(5))\n",
    "\n",
    "inc.zip = inc.zip.apply(lambda x: str(x).zfill(5))\n",
    "inc['num_white_households'] = inc.num_households * inc.pct_white_households\n",
    "inc.num_white_households = inc.num_white_households.apply(lambda x: int(x) * 1.0 if pd.notnull(x) else np.NaN)\n",
    "inc = inc.iloc[:, [0,1,2,5,6]]\n",
    "inc.columns = ['zip_code', 'num_households', 'median_household_income', 'year', 'num_white_households']\n",
    "\n",
    "soc.zip = soc.zip.apply(lambda x: str(x).zfill(5))\n",
    "soc = soc.iloc[:, [0,2,6,14,15,17,18]]\n",
    "soc.columns = ['zip_code', 'num_family_households', 'avg_household_size', \n",
    "               'num_us_citizens', 'num_english_speakers', 'num_with_american_ancestry', 'year']\n",
    "edu.zip = edu.zip.apply(lambda x: str(x).zfill(5))\n",
    "edu['num_hs_grads'] = edu.hs_diploma + edu.ged + edu.assoc_degree\n",
    "edu['num_bach_degree'] = edu.bachelors\n",
    "edu['num_post_grad'] = edu.masters + edu.professional + edu.doctorate\n",
    "edu = edu.loc[:, ['zip', 'year', 'num_hs_grads', 'num_bach_degree', 'num_post_grad']]\n",
    "edu = edu.rename(columns={'zip': 'zip_code'})"
   ]
  },
  {
   "cell_type": "code",
   "execution_count": 35,
   "metadata": {},
   "outputs": [
    {
     "data": {
      "text/html": [
       "<div>\n",
       "<style>\n",
       "    .dataframe thead tr:only-child th {\n",
       "        text-align: right;\n",
       "    }\n",
       "\n",
       "    .dataframe thead th {\n",
       "        text-align: left;\n",
       "    }\n",
       "\n",
       "    .dataframe tbody tr th {\n",
       "        vertical-align: top;\n",
       "    }\n",
       "</style>\n",
       "<table border=\"1\" class=\"dataframe\">\n",
       "  <thead>\n",
       "    <tr style=\"text-align: right;\">\n",
       "      <th></th>\n",
       "      <th>zip_code</th>\n",
       "      <th>num_family_households</th>\n",
       "      <th>avg_household_size</th>\n",
       "      <th>num_us_citizens</th>\n",
       "      <th>num_english_speakers</th>\n",
       "      <th>num_with_american_ancestry</th>\n",
       "      <th>year</th>\n",
       "    </tr>\n",
       "  </thead>\n",
       "  <tbody>\n",
       "  </tbody>\n",
       "</table>\n",
       "</div>"
      ],
      "text/plain": [
       "Empty DataFrame\n",
       "Columns: [zip_code, num_family_households, avg_household_size, num_us_citizens, num_english_speakers, num_with_american_ancestry, year]\n",
       "Index: []"
      ]
     },
     "execution_count": 35,
     "metadata": {},
     "output_type": "execute_result"
    }
   ],
   "source": [
    "soc[soc.zip_code=='00727']"
   ]
  },
  {
   "cell_type": "code",
   "execution_count": 32,
   "metadata": {
    "collapsed": true
   },
   "outputs": [],
   "source": [
    "frames = [pop, inc, soc, edu]\n",
    "df = reduce(lambda left,right: pd.merge(left,right,how='left', on=['zip_code', 'year']), frames)"
   ]
  },
  {
   "cell_type": "code",
   "execution_count": 36,
   "metadata": {
    "collapsed": true
   },
   "outputs": [],
   "source": [
    "df.to_csv(os.path.join(datapath, 'location-features.csv'), index=False)"
   ]
  },
  {
   "cell_type": "code",
   "execution_count": null,
   "metadata": {
    "collapsed": true
   },
   "outputs": [],
   "source": []
  }
 ],
 "metadata": {
  "kernelspec": {
   "display_name": "Python 2",
   "language": "python",
   "name": "python2"
  },
  "language_info": {
   "codemirror_mode": {
    "name": "ipython",
    "version": 2
   },
   "file_extension": ".py",
   "mimetype": "text/x-python",
   "name": "python",
   "nbconvert_exporter": "python",
   "pygments_lexer": "ipython2",
   "version": "2.7.13"
  },
  "toc": {
   "colors": {
    "hover_highlight": "#DAA520",
    "navigate_num": "#000000",
    "navigate_text": "#333333",
    "running_highlight": "#FF0000",
    "selected_highlight": "#FFD700",
    "sidebar_border": "#EEEEEE",
    "wrapper_background": "#FFFFFF"
   },
   "moveMenuLeft": true,
   "nav_menu": {
    "height": "48px",
    "width": "252px"
   },
   "navigate_menu": true,
   "number_sections": true,
   "sideBar": true,
   "threshold": 4,
   "toc_cell": false,
   "toc_section_display": "block",
   "toc_window_display": false,
   "widenNotebook": false
  }
 },
 "nbformat": 4,
 "nbformat_minor": 2
}
