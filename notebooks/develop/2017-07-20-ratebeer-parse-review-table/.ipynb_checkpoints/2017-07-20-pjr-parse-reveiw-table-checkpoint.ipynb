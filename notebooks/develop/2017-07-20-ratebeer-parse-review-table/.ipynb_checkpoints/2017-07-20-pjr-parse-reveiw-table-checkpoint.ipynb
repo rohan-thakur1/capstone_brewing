{
 "cells": [
  {
   "cell_type": "markdown",
   "metadata": {},
   "source": [
    "# Setup"
   ]
  },
  {
   "cell_type": "code",
   "execution_count": 8,
   "metadata": {},
   "outputs": [],
   "source": [
    "import csv\n",
    "import os\n",
    "import sys\n",
    "\n",
    "import numpy as np\n",
    "import pandas as pd\n",
    "import psycopg2 as pg\n",
    "import pandas.io.sql as psql\n",
    "\n",
    "nb_dir = os.path.split(os.getcwd())[0]\n",
    "if nb_dir not in sys.path:\n",
    "    sys.path.append(nb_dir)\n",
    "from creds import creds"
   ]
  },
  {
   "cell_type": "code",
   "execution_count": 9,
   "metadata": {},
   "outputs": [],
   "source": [
    "db = pg.connect(\"dbname={} user={} password={} host={}\".format(creds['dbname'], creds['user'],\n",
    "                                                               creds['password'], creds['host']))"
   ]
  },
  {
   "cell_type": "code",
   "execution_count": 10,
   "metadata": {
    "collapsed": true
   },
   "outputs": [],
   "source": [
    "sql = \"\"\"\n",
    "SELECT *\n",
    "FROM src.review;\n",
    "\"\"\"\n",
    "\n",
    "df = pd.read_sql_query(sql, db)"
   ]
  },
  {
   "cell_type": "code",
   "execution_count": 11,
   "metadata": {},
   "outputs": [
    {
     "data": {
      "text/plain": [
       "'Pittsburgh, Pennsylvania, USA'"
      ]
     },
     "execution_count": 11,
     "metadata": {},
     "output_type": "execute_result"
    }
   ],
   "source": [
    "df.iloc[0].user_location"
   ]
  },
  {
   "cell_type": "code",
   "execution_count": 12,
   "metadata": {},
   "outputs": [],
   "source": [
    "df['city'] = None\n",
    "df['state'] = None\n",
    "df['country'] = None\n",
    "\n",
    "def split_location(row):\n",
    "    parts = row['user_location'].split(',')\n",
    "    if len(parts) == 0:\n",
    "        pass\n",
    "    elif len(parts) == 1:\n",
    "        row['city'] = parts[-1]\n",
    "    elif len(parts) == 2:\n",
    "        row['state'] = parts[-2]\n",
    "        row['country'] = parts[-1]\n",
    "    else:\n",
    "        row['city'] = parts[-3]\n",
    "        row['state'] = parts[-2]\n",
    "        row['country'] = parts[-1]\n",
    "    return row\n",
    "\n",
    "df = df.apply(lambda row: split_location(row), axis=1)"
   ]
  },
  {
   "cell_type": "code",
   "execution_count": 14,
   "metadata": {},
   "outputs": [],
   "source": [
    "df.to_csv('review.csv', index=False)"
   ]
  },
  {
   "cell_type": "code",
   "execution_count": null,
   "metadata": {
    "collapsed": true
   },
   "outputs": [],
   "source": []
  }
 ],
 "metadata": {
  "kernelspec": {
   "display_name": "Python 3",
   "language": "python",
   "name": "python3"
  },
  "language_info": {
   "codemirror_mode": {
    "name": "ipython",
    "version": 3
   },
   "file_extension": ".py",
   "mimetype": "text/x-python",
   "name": "python",
   "nbconvert_exporter": "python",
   "pygments_lexer": "ipython3",
   "version": "3.6.1"
  }
 },
 "nbformat": 4,
 "nbformat_minor": 2
}
