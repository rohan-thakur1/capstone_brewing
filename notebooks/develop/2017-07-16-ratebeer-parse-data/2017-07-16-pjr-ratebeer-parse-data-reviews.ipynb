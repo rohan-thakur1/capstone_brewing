{
 "cells": [
  {
   "cell_type": "markdown",
   "metadata": {},
   "source": [
    "# Setup"
   ]
  },
  {
   "cell_type": "code",
   "execution_count": 1,
   "metadata": {
    "collapsed": true
   },
   "outputs": [],
   "source": [
    "import csv\n",
    "import os\n",
    "import glob\n",
    "\n",
    "import pandas as pd"
   ]
  },
  {
   "cell_type": "markdown",
   "metadata": {},
   "source": [
    "# Parse Data"
   ]
  },
  {
   "cell_type": "code",
   "execution_count": 4,
   "metadata": {
    "collapsed": true
   },
   "outputs": [],
   "source": [
    "path = r'../../../data/src/rate-beer/reviews/'\n",
    "allFiles = glob.glob(path + \"/*.csv\")\n",
    "frame = pd.DataFrame()\n",
    "list_ = []\n",
    "for file_ in allFiles:\n",
    "    df = pd.read_csv(file_,index_col=None, header=0)\n",
    "    list_.append(df)\n",
    "frame = pd.concat(list_)"
   ]
  },
  {
   "cell_type": "code",
   "execution_count": 8,
   "metadata": {},
   "outputs": [
    {
     "data": {
      "text/html": [
       "<div>\n",
       "<style>\n",
       "    .dataframe thead tr:only-child th {\n",
       "        text-align: right;\n",
       "    }\n",
       "\n",
       "    .dataframe thead th {\n",
       "        text-align: left;\n",
       "    }\n",
       "\n",
       "    .dataframe tbody tr th {\n",
       "        vertical-align: top;\n",
       "    }\n",
       "</style>\n",
       "<table border=\"1\" class=\"dataframe\">\n",
       "  <thead>\n",
       "    <tr style=\"text-align: right;\">\n",
       "      <th></th>\n",
       "      <th>index</th>\n",
       "      <th>beer_id</th>\n",
       "      <th>date</th>\n",
       "      <th>rating</th>\n",
       "      <th>text</th>\n",
       "      <th>user_location</th>\n",
       "      <th>user_name</th>\n",
       "    </tr>\n",
       "  </thead>\n",
       "  <tbody>\n",
       "    <tr>\n",
       "      <th>0</th>\n",
       "      <td>0</td>\n",
       "      <td>1045</td>\n",
       "      <td>2017-04-26</td>\n",
       "      <td>3.4</td>\n",
       "      <td>Poured as part of a \"Derivation flight\" with b...</td>\n",
       "      <td>Philadelphia, Pennsylvania, USA</td>\n",
       "      <td>JAXSON</td>\n",
       "    </tr>\n",
       "    <tr>\n",
       "      <th>1</th>\n",
       "      <td>1</td>\n",
       "      <td>1045</td>\n",
       "      <td>2017-03-31</td>\n",
       "      <td>4.3</td>\n",
       "      <td>Bottle 750ml. shared at [ A Day To Sink All Se...</td>\n",
       "      <td>VestJylland, DENMARK</td>\n",
       "      <td>fonefan</td>\n",
       "    </tr>\n",
       "    <tr>\n",
       "      <th>2</th>\n",
       "      <td>2</td>\n",
       "      <td>1045</td>\n",
       "      <td>2017-02-09</td>\n",
       "      <td>4.4</td>\n",
       "      <td>750 ml bottle to goblet at SPC. Looks good; a ...</td>\n",
       "      <td>Indiana, USA</td>\n",
       "      <td>b3shine</td>\n",
       "    </tr>\n",
       "    <tr>\n",
       "      <th>3</th>\n",
       "      <td>3</td>\n",
       "      <td>1045</td>\n",
       "      <td>2016-10-30</td>\n",
       "      <td>4.6</td>\n",
       "      <td>Bottle shared during Marks 4K tasting, and la...</td>\n",
       "      <td>Alingsås, SWEDEN, SWEDEN</td>\n",
       "      <td>markextrae</td>\n",
       "    </tr>\n",
       "    <tr>\n",
       "      <th>4</th>\n",
       "      <td>4</td>\n",
       "      <td>1045</td>\n",
       "      <td>2016-09-27</td>\n",
       "      <td>4.1</td>\n",
       "      <td>Bottle shared at A Day To Sink All Sea Shepard...</td>\n",
       "      <td>The Hague / Amsterdam, NETHERLANDS</td>\n",
       "      <td>kermis</td>\n",
       "    </tr>\n",
       "  </tbody>\n",
       "</table>\n",
       "</div>"
      ],
      "text/plain": [
       "   index  beer_id        date  rating  \\\n",
       "0      0     1045  2017-04-26     3.4   \n",
       "1      1     1045  2017-03-31     4.3   \n",
       "2      2     1045  2017-02-09     4.4   \n",
       "3      3     1045  2016-10-30     4.6   \n",
       "4      4     1045  2016-09-27     4.1   \n",
       "\n",
       "                                                text  \\\n",
       "0  Poured as part of a \"Derivation flight\" with b...   \n",
       "1  Bottle 750ml. shared at [ A Day To Sink All Se...   \n",
       "2  750 ml bottle to goblet at SPC. Looks good; a ...   \n",
       "3  Bottle shared during Marks 4K tasting, and la...   \n",
       "4  Bottle shared at A Day To Sink All Sea Shepard...   \n",
       "\n",
       "                        user_location   user_name  \n",
       "0     Philadelphia, Pennsylvania, USA      JAXSON  \n",
       "1                VestJylland, DENMARK     fonefan  \n",
       "2                        Indiana, USA     b3shine  \n",
       "3            Alingsås, SWEDEN, SWEDEN  markextrae  \n",
       "4  The Hague / Amsterdam, NETHERLANDS      kermis  "
      ]
     },
     "execution_count": 8,
     "metadata": {},
     "output_type": "execute_result"
    }
   ],
   "source": [
    "frame.reset_index(inplace=True)"
   ]
  },
  {
   "cell_type": "code",
   "execution_count": 9,
   "metadata": {
    "collapsed": true
   },
   "outputs": [],
   "source": [
    "frame = frame.rename(columns={'index': 'id'})"
   ]
  },
  {
   "cell_type": "code",
   "execution_count": 10,
   "metadata": {},
   "outputs": [
    {
     "data": {
      "text/html": [
       "<div>\n",
       "<style>\n",
       "    .dataframe thead tr:only-child th {\n",
       "        text-align: right;\n",
       "    }\n",
       "\n",
       "    .dataframe thead th {\n",
       "        text-align: left;\n",
       "    }\n",
       "\n",
       "    .dataframe tbody tr th {\n",
       "        vertical-align: top;\n",
       "    }\n",
       "</style>\n",
       "<table border=\"1\" class=\"dataframe\">\n",
       "  <thead>\n",
       "    <tr style=\"text-align: right;\">\n",
       "      <th></th>\n",
       "      <th>id</th>\n",
       "      <th>beer_id</th>\n",
       "      <th>date</th>\n",
       "      <th>rating</th>\n",
       "      <th>text</th>\n",
       "      <th>user_location</th>\n",
       "      <th>user_name</th>\n",
       "    </tr>\n",
       "  </thead>\n",
       "  <tbody>\n",
       "    <tr>\n",
       "      <th>0</th>\n",
       "      <td>0</td>\n",
       "      <td>1045</td>\n",
       "      <td>2017-04-26</td>\n",
       "      <td>3.4</td>\n",
       "      <td>Poured as part of a \"Derivation flight\" with b...</td>\n",
       "      <td>Philadelphia, Pennsylvania, USA</td>\n",
       "      <td>JAXSON</td>\n",
       "    </tr>\n",
       "    <tr>\n",
       "      <th>1</th>\n",
       "      <td>1</td>\n",
       "      <td>1045</td>\n",
       "      <td>2017-03-31</td>\n",
       "      <td>4.3</td>\n",
       "      <td>Bottle 750ml. shared at [ A Day To Sink All Se...</td>\n",
       "      <td>VestJylland, DENMARK</td>\n",
       "      <td>fonefan</td>\n",
       "    </tr>\n",
       "    <tr>\n",
       "      <th>2</th>\n",
       "      <td>2</td>\n",
       "      <td>1045</td>\n",
       "      <td>2017-02-09</td>\n",
       "      <td>4.4</td>\n",
       "      <td>750 ml bottle to goblet at SPC. Looks good; a ...</td>\n",
       "      <td>Indiana, USA</td>\n",
       "      <td>b3shine</td>\n",
       "    </tr>\n",
       "    <tr>\n",
       "      <th>3</th>\n",
       "      <td>3</td>\n",
       "      <td>1045</td>\n",
       "      <td>2016-10-30</td>\n",
       "      <td>4.6</td>\n",
       "      <td>Bottle shared during Marks 4K tasting, and la...</td>\n",
       "      <td>Alingsås, SWEDEN, SWEDEN</td>\n",
       "      <td>markextrae</td>\n",
       "    </tr>\n",
       "    <tr>\n",
       "      <th>4</th>\n",
       "      <td>4</td>\n",
       "      <td>1045</td>\n",
       "      <td>2016-09-27</td>\n",
       "      <td>4.1</td>\n",
       "      <td>Bottle shared at A Day To Sink All Sea Shepard...</td>\n",
       "      <td>The Hague / Amsterdam, NETHERLANDS</td>\n",
       "      <td>kermis</td>\n",
       "    </tr>\n",
       "  </tbody>\n",
       "</table>\n",
       "</div>"
      ],
      "text/plain": [
       "   id  beer_id        date  rating  \\\n",
       "0   0     1045  2017-04-26     3.4   \n",
       "1   1     1045  2017-03-31     4.3   \n",
       "2   2     1045  2017-02-09     4.4   \n",
       "3   3     1045  2016-10-30     4.6   \n",
       "4   4     1045  2016-09-27     4.1   \n",
       "\n",
       "                                                text  \\\n",
       "0  Poured as part of a \"Derivation flight\" with b...   \n",
       "1  Bottle 750ml. shared at [ A Day To Sink All Se...   \n",
       "2  750 ml bottle to goblet at SPC. Looks good; a ...   \n",
       "3  Bottle shared during Marks 4K tasting, and la...   \n",
       "4  Bottle shared at A Day To Sink All Sea Shepard...   \n",
       "\n",
       "                        user_location   user_name  \n",
       "0     Philadelphia, Pennsylvania, USA      JAXSON  \n",
       "1                VestJylland, DENMARK     fonefan  \n",
       "2                        Indiana, USA     b3shine  \n",
       "3            Alingsås, SWEDEN, SWEDEN  markextrae  \n",
       "4  The Hague / Amsterdam, NETHERLANDS      kermis  "
      ]
     },
     "execution_count": 10,
     "metadata": {},
     "output_type": "execute_result"
    }
   ],
   "source": [
    "frame.head()"
   ]
  },
  {
   "cell_type": "code",
   "execution_count": 13,
   "metadata": {},
   "outputs": [],
   "source": [
    "fname = r'../../../data/wrk/ratebeer/reviews.csv'\n",
    "frame.to_csv(fname, quoting=csv.QUOTE_NONNUMERIC, encoding='utf-8', index=False)"
   ]
  },
  {
   "cell_type": "code",
   "execution_count": null,
   "metadata": {
    "collapsed": true
   },
   "outputs": [],
   "source": [
    "pgfutter --host capstone-brewing.cyol5m7lekm6.us-east-1.rds.amazonaws.com --port 5432 --db brew --username pjryan126 --schema src --pass 0408Deek csv reviews.csv"
   ]
  }
 ],
 "metadata": {
  "kernelspec": {
   "display_name": "Python 2",
   "language": "python",
   "name": "python2"
  },
  "language_info": {
   "codemirror_mode": {
    "name": "ipython",
    "version": 2
   },
   "file_extension": ".py",
   "mimetype": "text/x-python",
   "name": "python",
   "nbconvert_exporter": "python",
   "pygments_lexer": "ipython2",
   "version": "2.7.13"
  }
 },
 "nbformat": 4,
 "nbformat_minor": 2
}
