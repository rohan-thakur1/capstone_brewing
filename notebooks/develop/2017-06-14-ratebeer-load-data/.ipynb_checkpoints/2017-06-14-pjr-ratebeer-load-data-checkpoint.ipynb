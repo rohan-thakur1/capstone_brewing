{
 "cells": [
  {
   "cell_type": "markdown",
   "metadata": {},
   "source": [
    "# In this Notebook"
   ]
  },
  {
   "cell_type": "markdown",
   "metadata": {},
   "source": [
    "This notebook extracts the following data from the RateBeer website (<a href='https://www.ratebeer.com/'>link</a>) using the ratebeer (<a href='https://github.com/alilja/ratebeer'>link</a>) package. \n",
    "\n",
    "* Beer - all data related to specific beers\n",
    "\n",
    "The extracted data is saved in a .csv file for future analysis. "
   ]
  },
  {
   "cell_type": "markdown",
   "metadata": {},
   "source": [
    "# Setup"
   ]
  },
  {
   "cell_type": "code",
   "execution_count": 1,
   "metadata": {
    "collapsed": true
   },
   "outputs": [],
   "source": [
    "#!pip3 install requests beautifulsoup4 lxml\n",
    "#!git clone https://github.com/alilja/ratebeer.git\n",
    "#!cd ratebeer\n",
    "#!python setup.py install"
   ]
  },
  {
   "cell_type": "code",
   "execution_count": 2,
   "metadata": {
    "collapsed": true
   },
   "outputs": [],
   "source": [
    "import numpy as np\n",
    "import pandas as pd\n",
    "\n",
    "import ratebeer"
   ]
  },
  {
   "cell_type": "code",
   "execution_count": 3,
   "metadata": {
    "collapsed": true
   },
   "outputs": [],
   "source": [
    "# connect to ratebeer API\n",
    "rb = ratebeer.RateBeer()"
   ]
  },
  {
   "cell_type": "markdown",
   "metadata": {},
   "source": [
    "# Beer Data"
   ]
  },
  {
   "cell_type": "markdown",
   "metadata": {},
   "source": [
    "```\n",
    ">>> rb.beer(\"/beer/new-belgium-tour-de-fall/279122/\")\n",
    "{'_has_fetched': True,\n",
    " 'abv': 6.0,\n",
    " 'brewed_at': None,\n",
    " 'brewery': <Brewery('/brewers/new-belgium-brewing-company/77/')>,\n",
    " 'calories': 180,\n",
    " 'description': \"New Belgium's love for beer, bikes and benefits is best \"\n",
    "                'described by being at Tour de Fat. Our love for Cascade and '\n",
    "                'Amarillo hops is best tasted in our Tour de Fall Pale Ale. '\n",
    "                \"We're cruising both across the country during our favorite \"\n",
    "                'time of year. Hop on and find Tour de Fall Pale Ale in fall '\n",
    "                '2014.',\n",
    " 'ibu': 38,\n",
    " 'img_url': 'https://res.cloudinary.com/ratebeer/image/upload/w_120,c_limit/beer_279122.jpg',\n",
    " 'mean_rating': None,\n",
    " 'name': 'New Belgium Tour de Fall',\n",
    " 'num_ratings': 261,\n",
    " 'overall_rating': 72,\n",
    " 'retired': False,\n",
    " 'seasonal': 'Autumn',\n",
    " 'style': 'American Pale Ale',\n",
    " 'style_rating': 70,\n",
    " 'style_url': '/beerstyles/american-pale-ale/18/',\n",
    " 'tags': ['cascade', 'amarillo'],\n",
    " 'url': '/beer/new-belgium-tour-de-fall/279122/',\n",
    " 'weighted_avg': 3.34}\n",
    " ```"
   ]
  },
  {
   "cell_type": "markdown",
   "metadata": {},
   "source": [
    "## Download via API"
   ]
  },
  {
   "cell_type": "code",
   "execution_count": 4,
   "metadata": {
    "collapsed": true
   },
   "outputs": [],
   "source": [
    "# get list of beer styles for purposes of extracting beers\n",
    "beer_styles = rb.beer_style_list()"
   ]
  },
  {
   "cell_type": "code",
   "execution_count": 5,
   "metadata": {},
   "outputs": [
    {
     "data": {
      "application/vnd.jupyter.widget-view+json": {
       "model_id": "84abbfd67c2f4d98b2181bb3a9547589"
      }
     },
     "metadata": {},
     "output_type": "display_data"
    },
    {
     "data": {
      "application/vnd.jupyter.widget-view+json": {
       "model_id": "8fe7313e44c247fd98e8642ab1f02422"
      }
     },
     "metadata": {},
     "output_type": "display_data"
    },
    {
     "name": "stdout",
     "output_type": "stream",
     "text": [
      "*** Done\n"
     ]
    }
   ],
   "source": [
    "from Queue import Queue\n",
    "from threading import Thread\n",
    "\n",
    "from ipywidgets import FloatProgress\n",
    "from IPython.display import display\n",
    "\n",
    "# global variables\n",
    "num_fetch_threads = 5\n",
    "beers = []\n",
    "queue = Queue()\n",
    "\n",
    "# set up beer_styles download progress bar\n",
    "p1 = FloatProgress(min=0, max=len(beer_styles), description='Getting URLs')\n",
    "display(p1)\n",
    "\n",
    "# build queue\n",
    "for k, bs in beer_styles.items():\n",
    "    p1.value += 1\n",
    "    for b in rb.beer_style(bs):\n",
    "        queue.put(b.url)\n",
    "\n",
    "# set up beers download progress bar\n",
    "p2 = FloatProgress(min=0, max=queue.qsize(), description=\"Downloading beer data\")\n",
    "display(p2)\n",
    "\n",
    "# define worker\n",
    "def get_beer(i, q):\n",
    "    while True:\n",
    "        try:\n",
    "            url = q.get()\n",
    "            beer = rb.beer(url)\n",
    "            beers.append(beer)\n",
    "            p2.value += 1\n",
    "        except:\n",
    "            pass\n",
    "        q.task_done()\n",
    "\n",
    "# open threads\n",
    "for i in range(num_fetch_threads):\n",
    "    worker = Thread(target=get_beer, args=(i, queue,))\n",
    "    worker.setDaemon(True)\n",
    "    worker.start()\n",
    "\n",
    "# start task queue\n",
    "queue.join()\n",
    "\n",
    "print '*** Done'"
   ]
  },
  {
   "cell_type": "markdown",
   "metadata": {},
   "source": [
    "## Export to CSV File"
   ]
  },
  {
   "cell_type": "code",
   "execution_count": 6,
   "metadata": {
    "collapsed": true
   },
   "outputs": [],
   "source": [
    "df = pd.DataFrame(beers)"
   ]
  },
  {
   "cell_type": "code",
   "execution_count": 7,
   "metadata": {
    "collapsed": true
   },
   "outputs": [],
   "source": [
    "# encode strings with utf-8\n",
    "def encode_str(x):\n",
    "    return str(x).encode('utf-8')\n",
    "\n",
    "# encode all string columns\n",
    "def clean_row(x):\n",
    "    for c in x.keys():\n",
    "        if isinstance(c, str):\n",
    "            x[c] = encode_str(x[c])\n",
    "    return x\n",
    "\n",
    "# perform transformations\n",
    "df = df.apply(lambda x: clean_row(x))"
   ]
  },
  {
   "cell_type": "code",
   "execution_count": 9,
   "metadata": {
    "collapsed": true
   },
   "outputs": [],
   "source": [
    "# save beers to csv file\n",
    "df.to_csv('../../data/beer.csv', encoding='utf-8')"
   ]
  },
  {
   "cell_type": "markdown",
   "metadata": {},
   "source": [
    "# Brewery Data"
   ]
  },
  {
   "cell_type": "code",
   "execution_count": null,
   "metadata": {
    "collapsed": true
   },
   "outputs": [],
   "source": []
  },
  {
   "cell_type": "markdown",
   "metadata": {},
   "source": [
    "# Beer Review Data"
   ]
  },
  {
   "cell_type": "markdown",
   "metadata": {},
   "source": [
    "```\n",
    ">>> rb.brewery(\"/brewers/deschutes-brewery/233/\")\n",
    "{'_has_fetched': True,\n",
    " 'city': 'Bend',\n",
    " 'country': 'USA',\n",
    " 'name': 'Deschutes Brewery',\n",
    " 'postal_code': '97702',\n",
    " 'state': 'Oregon',\n",
    " 'street': '901 SW Simpson Ave',\n",
    " 'telephone': '(541) 385-8606',\n",
    " 'type': 'Microbrewery',\n",
    " 'url': '/brewers/deschutes-brewery/233/',\n",
    " 'web': 'https://www.facebook.com/deschutes.brewery'}\n",
    " ```"
   ]
  },
  {
   "cell_type": "code",
   "execution_count": null,
   "metadata": {
    "collapsed": true
   },
   "outputs": [],
   "source": []
  }
 ],
 "metadata": {
  "kernelspec": {
   "display_name": "Python 2",
   "language": "python",
   "name": "python2"
  },
  "language_info": {
   "codemirror_mode": {
    "name": "ipython",
    "version": 2
   },
   "file_extension": ".py",
   "mimetype": "text/x-python",
   "name": "python",
   "nbconvert_exporter": "python",
   "pygments_lexer": "ipython2",
   "version": "2.7.13"
  },
  "toc": {
   "colors": {
    "hover_highlight": "#DAA520",
    "navigate_num": "#000000",
    "navigate_text": "#333333",
    "running_highlight": "#FF0000",
    "selected_highlight": "#FFD700",
    "sidebar_border": "#EEEEEE",
    "wrapper_background": "#FFFFFF"
   },
   "moveMenuLeft": true,
   "nav_menu": {
    "height": "137px",
    "width": "252px"
   },
   "navigate_menu": true,
   "number_sections": true,
   "sideBar": true,
   "threshold": 4,
   "toc_cell": false,
   "toc_section_display": "block",
   "toc_window_display": false,
   "widenNotebook": false
  }
 },
 "nbformat": 4,
 "nbformat_minor": 2
}
