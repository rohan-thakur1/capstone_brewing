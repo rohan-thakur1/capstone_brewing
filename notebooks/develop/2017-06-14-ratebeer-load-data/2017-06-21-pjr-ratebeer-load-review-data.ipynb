{
 "cells": [
  {
   "cell_type": "markdown",
   "metadata": {},
   "source": [
    "# In this Notebook"
   ]
  },
  {
   "cell_type": "markdown",
   "metadata": {},
   "source": [
    "This notebook extracts the following data from the RateBeer website (<a href='https://www.ratebeer.com/'>link</a>) using the ratebeer (<a href='https://github.com/alilja/ratebeer'>link</a>) package. \n",
    "\n",
    "* Review - all review data related to all beers\n",
    "\n",
    "The extracted data is saved in a .csv file for future analysis. "
   ]
  },
  {
   "cell_type": "markdown",
   "metadata": {},
   "source": [
    "# Setup"
   ]
  },
  {
   "cell_type": "code",
   "execution_count": null,
   "metadata": {
    "collapsed": true
   },
   "outputs": [],
   "source": [
    "#!pip3 install requests beautifulsoup4 lxml\n",
    "#!git clone https://github.com/alilja/ratebeer.git\n",
    "#!cd ratebeer\n",
    "#!python setup.py install"
   ]
  },
  {
   "cell_type": "code",
   "execution_count": 1,
   "metadata": {
    "collapsed": true
   },
   "outputs": [],
   "source": [
    "from datetime import datetime\n",
    "import numpy as np\n",
    "import pandas as pd\n",
    "import re\n",
    "import requests\n",
    "import string\n",
    "import csv\n",
    "from Queue import Queue\n",
    "import string\n",
    "from threading import Thread\n",
    "\n",
    "from ipywidgets import FloatProgress\n",
    "from IPython.display import display\n",
    "\n",
    "from bs4 import BeautifulSoup\n",
    "import ratebeer\n",
    "from ratebeer import soup as soup_helper\n",
    "from ratebeer import RateBeer as RateBeerBase\n",
    "from ratebeer.models import Beer as BeerBase"
   ]
  },
  {
   "cell_type": "code",
   "execution_count": 2,
   "metadata": {
    "collapsed": true
   },
   "outputs": [],
   "source": [
    "# connect to ratebeer API\n",
    "rb = ratebeer.RateBeer()"
   ]
  },
  {
   "cell_type": "markdown",
   "metadata": {},
   "source": [
    "# Beer Review Data"
   ]
  },
  {
   "cell_type": "code",
   "execution_count": 3,
   "metadata": {
    "collapsed": true
   },
   "outputs": [],
   "source": [
    "class Review(object):\n",
    "    \"\"\"\n",
    "    Args:\n",
    "        review_soup (soup): the soup of the review\n",
    "    Returns:\n",
    "        appearance (int): rating for appearance (out of 5)\n",
    "        aroma (int): aroma rating (out of 10)\n",
    "        date (datetime): review date\n",
    "        overall (int): overall rating (out of 20, for some reason)\n",
    "        palate (int): palate rating (out of 5)\n",
    "        rating (float): another overall rating provided in the review. Not sure how this different from overall.\n",
    "        taste (int): taste rating (out of 10)\n",
    "        text (string): actual text of the review.\n",
    "        user_location (string): writer's location\n",
    "        user_name (string): writer's username\n",
    "    \"\"\"\n",
    "\n",
    "    def __init__(self, review_soup):\n",
    "        # get ratings\n",
    "        # gets every second entry in a list\n",
    "        self.rating = float(review_soup.find(style=re.compile('color: #036;')).text)\n",
    "\n",
    "        # get user information\n",
    "        userinfo = review_soup.next_sibling\n",
    "        self.text = userinfo.next_sibling.next_sibling.text.strip()\n",
    "        self.user_name = re.findall(r'(.*?)\\xa0\\(\\d*?\\)', userinfo.a.text)[0]\n",
    "        self.user_location = re.findall(r'-\\s(.*?)\\s-', userinfo.a.next_sibling)[0]\n",
    "\n",
    "        # get date it was posted\n",
    "        date = re.findall(r'-(?:\\s.*?\\s-)+\\s(.*)', userinfo.a.next_sibling)[0]\n",
    "        self.date = datetime.strptime(date.strip(), '%b %d, %Y').date()\n",
    "\n",
    "    def __str__(self):\n",
    "        \"\"\"Provide a nicely formatted representation\"\"\"\n",
    "        return self.text\n",
    "    \n",
    "    def __dict__(self):\n",
    "        return dict(rating=self.rating, \n",
    "                    date=self.date,\n",
    "                    text=self.text, \n",
    "                    user_name=self.user_name,\n",
    "                    user_location=self.user_location)\n",
    "    \n",
    "    \n",
    "class Beer(BeerBase):\n",
    "    \n",
    "    def get_reviews(self, review_order=\"most recent\"):\n",
    "        \"\"\"Returns reviews for a specific beer.\n",
    "        Args:\n",
    "            url (string): The specific url of the beer. Looks like:\n",
    "                \"/beer/deschutes-inversion-ipa/55610/\"\n",
    "            review_order (string): How to sort reviews. Three inputs:\n",
    "                most recent: Newer reviews appear earlier.\n",
    "                top raters: RateBeer.com top raters appear earlier.\n",
    "                highest score: Reviews with the highest overall score appear\n",
    "                earlier.\n",
    "        Returns:\n",
    "            A generator of dictionaries, containing the information about the review.\n",
    "        \"\"\"\n",
    "\n",
    "        if not self._has_fetched:\n",
    "            self._populate()\n",
    "\n",
    "        review_order = review_order.lower()\n",
    "        url_codes = {\n",
    "            \"most recent\": 1,\n",
    "            \"top raters\": 2,\n",
    "            \"highest score\": 3\n",
    "        }\n",
    "        url_flag = url_codes.get(review_order)\n",
    "        if not url_flag:\n",
    "            raise ValueError(\"Invalid ``review_order``.\")\n",
    "\n",
    "        page_number = 1\n",
    "        while True:\n",
    "            complete_url = u'{0}{1}/{2}/'.format(self.url, url_flag, page_number)\n",
    "            soup = soup_helper._get_soup(complete_url)\n",
    "            content = soup.find('div', class_='reviews-container')\n",
    "            reviews = content.find_all('div', style='padding: 0px 0px 0px 0px;')\n",
    "            if len(reviews) < 1:\n",
    "                raise StopIteration\n",
    "\n",
    "            for review_soup in reviews:\n",
    "                yield Review(review_soup)\n",
    "\n",
    "            page_number += 1\n",
    "\n",
    "\n",
    "class RateBeer(RateBeerBase):\n",
    "    def get_beer(self, ident, fetch=None):\n",
    "            \"\"\"Returns a Beer object for the requested ID\"\"\"\n",
    "            if fetch is None:\n",
    "                fetch = False\n",
    "            return Beer(ident, fetch)"
   ]
  },
  {
   "cell_type": "code",
   "execution_count": 4,
   "metadata": {
    "collapsed": true
   },
   "outputs": [],
   "source": [
    "# connect to ratebeer API\n",
    "rb = RateBeer()"
   ]
  },
  {
   "cell_type": "code",
   "execution_count": 5,
   "metadata": {
    "collapsed": true
   },
   "outputs": [],
   "source": [
    "# Load beer data\n",
    "beers = pd.read_csv('../../../data/beer.csv')"
   ]
  },
  {
   "cell_type": "markdown",
   "metadata": {
    "heading_collapsed": true
   },
   "source": [
    "## First Run"
   ]
  },
  {
   "cell_type": "code",
   "execution_count": null,
   "metadata": {
    "hidden": true
   },
   "outputs": [],
   "source": [
    "# global variables\n",
    "num_fetch_threads = 10\n",
    "errors = []\n",
    "queue = Queue()\n",
    "\n",
    "\n",
    "# encode strings with utf-8\n",
    "def encode_str(x):\n",
    "    return str(x).encode('utf-8')\n",
    "\n",
    "# encode all string columns\n",
    "def clean_row(x):\n",
    "    for c in x.keys():\n",
    "        if isinstance(c, str):\n",
    "            x[c] = encode_str(x[c])\n",
    "    return x\n",
    "\n",
    "\n",
    "# build queue\n",
    "for beer in beers.to_dict(orient='records'):\n",
    "    queue.put(beer)\n",
    "  \n",
    "# set up beers download progress bar\n",
    "p = FloatProgress(min=0, max=queue.qsize(), description=\"Downloading reviews\")\n",
    "display(p)\n",
    "\n",
    "# define worker\n",
    "def get_reviews(i, q):\n",
    "    while True:\n",
    "        try:\n",
    "            beer = q.get()\n",
    "            b = rb.get_beer(beer['url'])\n",
    "            reviews = []\n",
    "            for review in b.get_reviews():\n",
    "                review = review.__dict__()\n",
    "                review['beer_id'] = beer['id']\n",
    "                reviews.append(review)\n",
    "            # create DataFrame\n",
    "            df = pd.DataFrame(reviews)\n",
    "\n",
    "            # perform transformations\n",
    "            df = df.apply(lambda x: clean_row(x))\n",
    "\n",
    "            # save reviews to csv file\n",
    "            df.to_csv('../../../data/reviews/%s.csv' % beer['id'], quoting=csv.QUOTE_NONNUMERIC, encoding='utf-8', index=False)\n",
    "        except Exception as e: \n",
    "            errors.append(dict(beer_id=beer['id'], name=beer['name'], error=str(e)))\n",
    "            pass\n",
    "        p.value += 1\n",
    "        q.task_done()\n",
    "\n",
    "# open threads\n",
    "for i in range(num_fetch_threads):\n",
    "    worker = Thread(target=get_reviews, args=(i, queue,))\n",
    "    worker.setDaemon(True)\n",
    "    worker.start()\n",
    "\n",
    "# start task queue\n",
    "queue.join()\n",
    "\n",
    "# send errors to csv\n",
    "errors = pd.DataFrame(errors)\n",
    "errors.to_csv('../../../data/review-errors-1.csv', index=False, quoting=csv.QUOTE_NONNUMERIC)\n",
    "\n",
    "print '*** Done'"
   ]
  },
  {
   "cell_type": "markdown",
   "metadata": {},
   "source": [
    "## Retry Errors"
   ]
  },
  {
   "cell_type": "code",
   "execution_count": 6,
   "metadata": {},
   "outputs": [],
   "source": [
    "# get beer_ids with errors in first run\n",
    "errors = pd.read_csv('../../../data/review-errors-1.csv',  quoting=csv.QUOTE_NONNUMERIC)"
   ]
  },
  {
   "cell_type": "code",
   "execution_count": 7,
   "metadata": {},
   "outputs": [
    {
     "data": {
      "application/vnd.jupyter.widget-view+json": {
       "model_id": "7c7892d3150541f2a578b69d24bcb00a"
      }
     },
     "metadata": {},
     "output_type": "display_data"
    },
    {
     "name": "stdout",
     "output_type": "stream",
     "text": [
      "*** Done\n"
     ]
    }
   ],
   "source": [
    "## Retry Errors\n",
    "import csv\n",
    "from Queue import Queue\n",
    "import string\n",
    "from threading import Thread\n",
    "\n",
    "from ipywidgets import FloatProgress\n",
    "from IPython.display import display\n",
    "\n",
    "# global variables\n",
    "num_fetch_threads = 10\n",
    "queue = Queue()\n",
    "\n",
    "\n",
    "# encode strings with utf-8\n",
    "def encode_str(x):\n",
    "    return str(x).encode('utf-8')\n",
    "\n",
    "# encode all string columns\n",
    "def clean_row(x):\n",
    "    for c in x.keys():\n",
    "        if isinstance(c, str):\n",
    "            x[c] = encode_str(x[c])\n",
    "    return x\n",
    "\n",
    "\n",
    "# build queue\n",
    "errors = errors['beer_id'].tolist()\n",
    "for beer in beers.to_dict(orient='records'):\n",
    "    if beer['id'] in errors:\n",
    "        queue.put(beer)\n",
    "errors = []\n",
    "  \n",
    "# set up beers download progress bar\n",
    "p = FloatProgress(min=0, max=queue.qsize(), description=\"Downloading reviews\")\n",
    "display(p)\n",
    "\n",
    "# define worker\n",
    "def get_reviews(i, q):\n",
    "    while True:\n",
    "        try:\n",
    "            beer = q.get()\n",
    "            b = rb.get_beer(beer['url'])\n",
    "            reviews = []\n",
    "            for review in b.get_reviews():\n",
    "                review = review.__dict__()\n",
    "                review['beer_id'] = beer['id']\n",
    "                reviews.append(review)\n",
    "            # create DataFrame\n",
    "            df = pd.DataFrame(reviews)\n",
    "\n",
    "            # perform transformations\n",
    "            df = df.apply(lambda x: clean_row(x))\n",
    "\n",
    "            # save reviews to csv file\n",
    "            df.to_csv('../../../data/reviews/%s.csv' % beer['id'], quoting=csv.QUOTE_NONNUMERIC, encoding='utf-8', index=False)\n",
    "        except Exception as e: \n",
    "            errors.append(dict(beer_id=beer['id'], name=beer['name'], error=str(e)))\n",
    "            pass\n",
    "        p.value += 1\n",
    "        q.task_done()\n",
    "\n",
    "# open threads\n",
    "for i in range(num_fetch_threads):\n",
    "    worker = Thread(target=get_reviews, args=(i, queue,))\n",
    "    worker.setDaemon(True)\n",
    "    worker.start()\n",
    "\n",
    "# start task queue\n",
    "queue.join()\n",
    "\n",
    "# send errors to csv\n",
    "errors = pd.DataFrame(errors)\n",
    "errors.to_csv('../../../data/review-errors-2.csv', index=False, quoting=csv.QUOTE_NONNUMERIC)\n",
    "\n",
    "print '*** Done'"
   ]
  },
  {
   "cell_type": "code",
   "execution_count": null,
   "metadata": {
    "collapsed": true
   },
   "outputs": [],
   "source": []
  }
 ],
 "metadata": {
  "kernelspec": {
   "display_name": "Python 2",
   "language": "python",
   "name": "python2"
  },
  "language_info": {
   "codemirror_mode": {
    "name": "ipython",
    "version": 2
   },
   "file_extension": ".py",
   "mimetype": "text/x-python",
   "name": "python",
   "nbconvert_exporter": "python",
   "pygments_lexer": "ipython2",
   "version": "2.7.13"
  },
  "latex_envs": {
   "LaTeX_envs_menu_present": true,
   "autocomplete": true,
   "bibliofile": "biblio.bib",
   "cite_by": "apalike",
   "current_citInitial": 1,
   "eqLabelWithNumbers": true,
   "eqNumInitial": 1,
   "hotkeys": {
    "equation": "Ctrl-E",
    "itemize": "Ctrl-I"
   },
   "labels_anchors": false,
   "latex_user_defs": false,
   "report_style_numbering": false,
   "user_envs_cfg": false
  },
  "toc": {
   "colors": {
    "hover_highlight": "#DAA520",
    "navigate_num": "#000000",
    "navigate_text": "#333333",
    "running_highlight": "#FF0000",
    "selected_highlight": "#FFD700",
    "sidebar_border": "#EEEEEE",
    "wrapper_background": "#FFFFFF"
   },
   "moveMenuLeft": true,
   "nav_menu": {
    "height": "137px",
    "width": "252px"
   },
   "navigate_menu": true,
   "number_sections": true,
   "sideBar": true,
   "threshold": 4,
   "toc_cell": false,
   "toc_section_display": "block",
   "toc_window_display": false,
   "widenNotebook": false
  }
 },
 "nbformat": 4,
 "nbformat_minor": 2
}
