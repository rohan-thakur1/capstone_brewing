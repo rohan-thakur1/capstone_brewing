{
 "cells": [
  {
   "cell_type": "markdown",
   "metadata": {},
   "source": [
    "# Setup"
   ]
  },
  {
   "cell_type": "code",
   "execution_count": 1,
   "metadata": {
    "collapsed": true
   },
   "outputs": [],
   "source": [
    "import csv\n",
    "from datetime import datetime\n",
    "import json\n",
    "import os\n",
    "import pprint\n",
    "from Queue import Queue\n",
    "import string\n",
    "from threading import Thread\n",
    "\n",
    "from ipywidgets import FloatProgress\n",
    "from IPython.display import display\n",
    "import numpy as np\n",
    "import pandas as pd"
   ]
  },
  {
   "cell_type": "code",
   "execution_count": 2,
   "metadata": {
    "collapsed": true
   },
   "outputs": [],
   "source": [
    "src = '../../../data/src/rate-beer/'"
   ]
  },
  {
   "cell_type": "markdown",
   "metadata": {},
   "source": [
    "# Load Source Data"
   ]
  },
  {
   "cell_type": "code",
   "execution_count": 3,
   "metadata": {
    "collapsed": true
   },
   "outputs": [],
   "source": [
    "# load data to dataframe\n",
    "fname = os.path.abspath(os.path.join(src, 'beer.csv'))\n",
    "data = pd.read_csv(fname)"
   ]
  },
  {
   "cell_type": "code",
   "execution_count": 4,
   "metadata": {
    "collapsed": true
   },
   "outputs": [],
   "source": [
    "# remove unnecessary columns\n",
    "data = data.iloc[:,0:20]\n",
    "del data['_has_fetched']"
   ]
  },
  {
   "cell_type": "code",
   "execution_count": 5,
   "metadata": {
    "collapsed": true
   },
   "outputs": [],
   "source": [
    "data.id += 1"
   ]
  },
  {
   "cell_type": "code",
   "execution_count": 6,
   "metadata": {},
   "outputs": [
    {
     "name": "stdout",
     "output_type": "stream",
     "text": [
      "0: id\n",
      "1: abv\n",
      "2: brewed_at\n",
      "3: brewery\n",
      "4: calories\n",
      "5: description\n",
      "6: ibu\n",
      "7: img_url\n",
      "8: mean_rating\n",
      "9: name\n",
      "10: num_ratings\n",
      "11: overall_rating\n",
      "12: retired\n",
      "13: seasonal\n",
      "14: style\n",
      "15: style_rating\n",
      "16: style_url\n",
      "17: tags\n",
      "18: url\n"
     ]
    }
   ],
   "source": [
    "for i,c in enumerate(data.columns):\n",
    "    print('{}: {}'.format(i,c))"
   ]
  },
  {
   "cell_type": "markdown",
   "metadata": {},
   "source": [
    "# Parse Data"
   ]
  },
  {
   "cell_type": "markdown",
   "metadata": {},
   "source": [
    "## Create DataFrames"
   ]
  },
  {
   "cell_type": "code",
   "execution_count": 7,
   "metadata": {
    "collapsed": true
   },
   "outputs": [],
   "source": [
    "beers = pd.DataFrame(columns=data.columns)\n",
    "del beers['tags']\n",
    "tags = pd.DataFrame(columns=['id', 'name'])\n",
    "beer_tag = pd.DataFrame(columns=['beer_id', 'tag_id'])"
   ]
  },
  {
   "cell_type": "code",
   "execution_count": 8,
   "metadata": {},
   "outputs": [
    {
     "data": {
      "application/vnd.jupyter.widget-view+json": {
       "model_id": "f7c29a9e5d074026b1be0b0746a7d9ae"
      }
     },
     "metadata": {},
     "output_type": "display_data"
    },
    {
     "name": "stdout",
     "output_type": "stream",
     "text": [
      "[rauchbock, smoked malt, bamberg smoked malt]\n",
      "nan\n",
      "[table beer, brettanomyces]\n",
      "nan\n",
      "[nefiltrovan??, saaz, 12??, cervenak, cervenak]\n"
     ]
    }
   ],
   "source": [
    "# global variables\n",
    "num_fetch_threads = 10\n",
    "queue = Queue()\n",
    "tag_id = 0\n",
    "\n",
    "# build queue\n",
    "ids = range(1, data.id.max() + 1)\n",
    "for id in ids:\n",
    "    q = id\n",
    "    queue.put(q)\n",
    "\n",
    "# set up progress bar\n",
    "p = FloatProgress(min=0, max=queue.qsize(), description=\"Parsing pages\")\n",
    "display(p)\n",
    "\n",
    "#define worker\n",
    "def parse_data(i, q):\n",
    "    global p\n",
    "    global tags\n",
    "    global beer_tag\n",
    "    global tag_id\n",
    "    while True:\n",
    "        id = q.get()\n",
    "        row = data[data.id==id].iloc[0]\n",
    "        try:\n",
    "            if row.tags != '[]':\n",
    "                tag_list =row.tags.strip('[').strip(']')\n",
    "                tag_list = tag_list.split(',')\n",
    "                tag_list = [t.strip() for t in tag_list]\n",
    "                for tag in tag_list:\n",
    "                    current_tags = tags.name.tolist()\n",
    "                    if not tag in current_tags:\n",
    "                        tag_id += 1\n",
    "                        new_tag = pd.DataFrame(dict(id=tag_id, name=tag), index=[0])\n",
    "                        tags = tags.append(new_tag)\n",
    "\n",
    "                        new_beer_tag = pd.DataFrame(dict(beer_id=row.id, tag_id=tag_id), index=[0])\n",
    "                        beer_tag = beer_tag.append(new_beer_tag)\n",
    "                    else:\n",
    "                        current_tag = tags[tags.name==tag].iloc[0].id\n",
    "                        new_beer_tag = pd.DataFrame(dict(beer_id=row.id, tag_id=current_tag), index=[0])\n",
    "                        beer_tag = beer_tag.append(new_beer_tag)\n",
    "        except:\n",
    "            print row.tags\n",
    "            pass\n",
    "            \n",
    "        p.value += 1\n",
    "        q.task_done()\n",
    "        \n",
    "# open threads\n",
    "for i in range(num_fetch_threads):\n",
    "    worker = Thread(target=parse_data, args=(i, queue,))\n",
    "    worker.setDaemon(True)\n",
    "    worker.start()\n",
    "\n",
    "# start task queue\n",
    "queue.join()"
   ]
  },
  {
   "cell_type": "code",
   "execution_count": 15,
   "metadata": {},
   "outputs": [],
   "source": [
    "wrk = '../../../data/wrk/ratebeer/'\n",
    "# save tags\n",
    "fname = os.path.abspath(os.path.join(wrk, 'tags.csv'))\n",
    "tags.to_csv(fname, quoting=csv.QUOTE_NONNUMERIC, encoding='utf-8', index=False)\n",
    "\n",
    "# save beers\n",
    "del data['tags']\n",
    "fname = os.path.abspath(os.path.join(wrk, 'beers.csv'))\n",
    "data.to_csv(fname, quoting=csv.QUOTE_NONNUMERIC, encoding='utf-8', index=False)\n",
    "\n",
    "# save beer_tags\n",
    "fname = os.path.abspath(os.path.join(wrk, 'beer_tag.csv'))\n",
    "beer_tag.to_csv(fname, quoting=csv.QUOTE_NONNUMERIC, encoding='utf-8', index=False)"
   ]
  },
  {
   "cell_type": "code",
   "execution_count": 11,
   "metadata": {},
   "outputs": [
    {
     "data": {
      "text/plain": [
       "(682, 2)"
      ]
     },
     "execution_count": 11,
     "metadata": {},
     "output_type": "execute_result"
    }
   ],
   "source": [
    "tags.shape"
   ]
  },
  {
   "cell_type": "code",
   "execution_count": null,
   "metadata": {
    "collapsed": true
   },
   "outputs": [],
   "source": []
  }
 ],
 "metadata": {
  "kernelspec": {
   "display_name": "Python 2",
   "language": "python",
   "name": "python2"
  },
  "language_info": {
   "codemirror_mode": {
    "name": "ipython",
    "version": 2
   },
   "file_extension": ".py",
   "mimetype": "text/x-python",
   "name": "python",
   "nbconvert_exporter": "python",
   "pygments_lexer": "ipython2",
   "version": "2.7.13"
  }
 },
 "nbformat": 4,
 "nbformat_minor": 2
}
