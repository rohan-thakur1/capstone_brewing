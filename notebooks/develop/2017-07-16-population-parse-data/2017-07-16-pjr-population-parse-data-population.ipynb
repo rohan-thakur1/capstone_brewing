{
 "cells": [
  {
   "cell_type": "markdown",
   "metadata": {},
   "source": [
    "# Setup"
   ]
  },
  {
   "cell_type": "code",
   "execution_count": 1,
   "metadata": {
    "collapsed": true
   },
   "outputs": [],
   "source": [
    "import csv\n",
    "import os\n",
    "import glob\n",
    "\n",
    "import pandas as pd"
   ]
  },
  {
   "cell_type": "markdown",
   "metadata": {},
   "source": [
    "# Parse Data"
   ]
  },
  {
   "cell_type": "code",
   "execution_count": 4,
   "metadata": {},
   "outputs": [
    {
     "name": "stderr",
     "output_type": "stream",
     "text": [
      "/home/pryan/anaconda3/envs/capstone/lib/python2.7/site-packages/IPython/core/interactiveshell.py:2717: DtypeWarning: Columns (50) have mixed types. Specify dtype option on import or set low_memory=False.\n",
      "  interactivity=interactivity, compiler=compiler, result=result)\n"
     ]
    }
   ],
   "source": [
    "fname = r'../../../data/src/population/zcta_11_to_15.csv'\n",
    "df = pd.read_csv(fname)"
   ]
  },
  {
   "cell_type": "code",
   "execution_count": 6,
   "metadata": {},
   "outputs": [],
   "source": [
    "df.reset_index(inplace=True)\n",
    "df = df.rename(columns={'index': 'id'})"
   ]
  },
  {
   "cell_type": "code",
   "execution_count": 7,
   "metadata": {},
   "outputs": [
    {
     "data": {
      "text/html": [
       "<div>\n",
       "<style>\n",
       "    .dataframe thead tr:only-child th {\n",
       "        text-align: right;\n",
       "    }\n",
       "\n",
       "    .dataframe thead th {\n",
       "        text-align: left;\n",
       "    }\n",
       "\n",
       "    .dataframe tbody tr th {\n",
       "        vertical-align: top;\n",
       "    }\n",
       "</style>\n",
       "<table border=\"1\" class=\"dataframe\">\n",
       "  <thead>\n",
       "    <tr style=\"text-align: right;\">\n",
       "      <th></th>\n",
       "      <th>id</th>\n",
       "      <th>name</th>\n",
       "      <th>year</th>\n",
       "      <th>all_ages_m</th>\n",
       "      <th>under_5_m</th>\n",
       "      <th>5_to_9_m</th>\n",
       "      <th>10_to_14_m</th>\n",
       "      <th>15_to_17_m</th>\n",
       "      <th>18_to_19_m</th>\n",
       "      <th>20_m</th>\n",
       "      <th>...</th>\n",
       "      <th>55_to_59_f</th>\n",
       "      <th>60_to_61_f</th>\n",
       "      <th>62_to_64_f</th>\n",
       "      <th>65_to_66_f</th>\n",
       "      <th>67_to_69_f</th>\n",
       "      <th>70_to_74_f</th>\n",
       "      <th>75_to_79_f</th>\n",
       "      <th>80_to_84_f</th>\n",
       "      <th>85_plus_f</th>\n",
       "      <th>zcta</th>\n",
       "    </tr>\n",
       "  </thead>\n",
       "  <tbody>\n",
       "    <tr>\n",
       "      <th>0</th>\n",
       "      <td>0</td>\n",
       "      <td>ZCTA5 01001</td>\n",
       "      <td>2011</td>\n",
       "      <td>7938.0</td>\n",
       "      <td>466.0</td>\n",
       "      <td>487.0</td>\n",
       "      <td>577.0</td>\n",
       "      <td>340.0</td>\n",
       "      <td>195.0</td>\n",
       "      <td>85.0</td>\n",
       "      <td>...</td>\n",
       "      <td>605.0</td>\n",
       "      <td>208.0</td>\n",
       "      <td>355.0</td>\n",
       "      <td>125.0</td>\n",
       "      <td>191.0</td>\n",
       "      <td>407.0</td>\n",
       "      <td>261.0</td>\n",
       "      <td>360.0</td>\n",
       "      <td>596.0</td>\n",
       "      <td>1001</td>\n",
       "    </tr>\n",
       "    <tr>\n",
       "      <th>1</th>\n",
       "      <td>1</td>\n",
       "      <td>ZCTA5 01002</td>\n",
       "      <td>2011</td>\n",
       "      <td>13514.0</td>\n",
       "      <td>493.0</td>\n",
       "      <td>510.0</td>\n",
       "      <td>387.0</td>\n",
       "      <td>300.0</td>\n",
       "      <td>1635.0</td>\n",
       "      <td>1158.0</td>\n",
       "      <td>...</td>\n",
       "      <td>770.0</td>\n",
       "      <td>267.0</td>\n",
       "      <td>512.0</td>\n",
       "      <td>89.0</td>\n",
       "      <td>324.0</td>\n",
       "      <td>261.0</td>\n",
       "      <td>238.0</td>\n",
       "      <td>228.0</td>\n",
       "      <td>361.0</td>\n",
       "      <td>1002</td>\n",
       "    </tr>\n",
       "    <tr>\n",
       "      <th>2</th>\n",
       "      <td>2</td>\n",
       "      <td>ZCTA5 01003</td>\n",
       "      <td>2011</td>\n",
       "      <td>5053.0</td>\n",
       "      <td>0.0</td>\n",
       "      <td>0.0</td>\n",
       "      <td>12.0</td>\n",
       "      <td>16.0</td>\n",
       "      <td>2507.0</td>\n",
       "      <td>1033.0</td>\n",
       "      <td>...</td>\n",
       "      <td>1.0</td>\n",
       "      <td>0.0</td>\n",
       "      <td>0.0</td>\n",
       "      <td>0.0</td>\n",
       "      <td>0.0</td>\n",
       "      <td>0.0</td>\n",
       "      <td>0.0</td>\n",
       "      <td>0.0</td>\n",
       "      <td>0.0</td>\n",
       "      <td>1003</td>\n",
       "    </tr>\n",
       "    <tr>\n",
       "      <th>3</th>\n",
       "      <td>3</td>\n",
       "      <td>ZCTA5 01005</td>\n",
       "      <td>2011</td>\n",
       "      <td>2439.0</td>\n",
       "      <td>141.0</td>\n",
       "      <td>131.0</td>\n",
       "      <td>165.0</td>\n",
       "      <td>161.0</td>\n",
       "      <td>55.0</td>\n",
       "      <td>43.0</td>\n",
       "      <td>...</td>\n",
       "      <td>271.0</td>\n",
       "      <td>34.0</td>\n",
       "      <td>37.0</td>\n",
       "      <td>61.0</td>\n",
       "      <td>52.0</td>\n",
       "      <td>39.0</td>\n",
       "      <td>48.0</td>\n",
       "      <td>119.0</td>\n",
       "      <td>77.0</td>\n",
       "      <td>1005</td>\n",
       "    </tr>\n",
       "    <tr>\n",
       "      <th>4</th>\n",
       "      <td>4</td>\n",
       "      <td>ZCTA5 01007</td>\n",
       "      <td>2011</td>\n",
       "      <td>7233.0</td>\n",
       "      <td>480.0</td>\n",
       "      <td>523.0</td>\n",
       "      <td>613.0</td>\n",
       "      <td>470.0</td>\n",
       "      <td>203.0</td>\n",
       "      <td>75.0</td>\n",
       "      <td>...</td>\n",
       "      <td>564.0</td>\n",
       "      <td>175.0</td>\n",
       "      <td>307.0</td>\n",
       "      <td>78.0</td>\n",
       "      <td>270.0</td>\n",
       "      <td>120.0</td>\n",
       "      <td>138.0</td>\n",
       "      <td>172.0</td>\n",
       "      <td>107.0</td>\n",
       "      <td>1007</td>\n",
       "    </tr>\n",
       "  </tbody>\n",
       "</table>\n",
       "<p>5 rows × 52 columns</p>\n",
       "</div>"
      ],
      "text/plain": [
       "   id         name  year  all_ages_m  under_5_m  5_to_9_m  10_to_14_m  \\\n",
       "0   0  ZCTA5 01001  2011      7938.0      466.0     487.0       577.0   \n",
       "1   1  ZCTA5 01002  2011     13514.0      493.0     510.0       387.0   \n",
       "2   2  ZCTA5 01003  2011      5053.0        0.0       0.0        12.0   \n",
       "3   3  ZCTA5 01005  2011      2439.0      141.0     131.0       165.0   \n",
       "4   4  ZCTA5 01007  2011      7233.0      480.0     523.0       613.0   \n",
       "\n",
       "   15_to_17_m  18_to_19_m    20_m  ...   55_to_59_f  60_to_61_f  62_to_64_f  \\\n",
       "0       340.0       195.0    85.0  ...        605.0       208.0       355.0   \n",
       "1       300.0      1635.0  1158.0  ...        770.0       267.0       512.0   \n",
       "2        16.0      2507.0  1033.0  ...          1.0         0.0         0.0   \n",
       "3       161.0        55.0    43.0  ...        271.0        34.0        37.0   \n",
       "4       470.0       203.0    75.0  ...        564.0       175.0       307.0   \n",
       "\n",
       "   65_to_66_f  67_to_69_f  70_to_74_f  75_to_79_f  80_to_84_f  85_plus_f  zcta  \n",
       "0       125.0       191.0       407.0       261.0       360.0      596.0  1001  \n",
       "1        89.0       324.0       261.0       238.0       228.0      361.0  1002  \n",
       "2         0.0         0.0         0.0         0.0         0.0        0.0  1003  \n",
       "3        61.0        52.0        39.0        48.0       119.0       77.0  1005  \n",
       "4        78.0       270.0       120.0       138.0       172.0      107.0  1007  \n",
       "\n",
       "[5 rows x 52 columns]"
      ]
     },
     "execution_count": 7,
     "metadata": {},
     "output_type": "execute_result"
    }
   ],
   "source": [
    "df.head()"
   ]
  },
  {
   "cell_type": "code",
   "execution_count": 11,
   "metadata": {},
   "outputs": [],
   "source": [
    "fname = r'../../../data/wrk/population/population.csv'\n",
    "df.to_csv(fname, quoting=csv.QUOTE_NONNUMERIC, encoding='utf-8', index=False)"
   ]
  },
  {
   "cell_type": "code",
   "execution_count": null,
   "metadata": {
    "collapsed": true
   },
   "outputs": [],
   "source": []
  }
 ],
 "metadata": {
  "kernelspec": {
   "display_name": "Python 2",
   "language": "python",
   "name": "python2"
  },
  "language_info": {
   "codemirror_mode": {
    "name": "ipython",
    "version": 2
   },
   "file_extension": ".py",
   "mimetype": "text/x-python",
   "name": "python",
   "nbconvert_exporter": "python",
   "pygments_lexer": "ipython2",
   "version": "2.7.13"
  }
 },
 "nbformat": 4,
 "nbformat_minor": 2
}
