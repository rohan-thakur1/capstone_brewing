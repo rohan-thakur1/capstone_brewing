{
 "cells": [
  {
   "cell_type": "code",
   "execution_count": 95,
   "metadata": {
    "collapsed": false
   },
   "outputs": [],
   "source": [
    "import csv\n",
    "import json\n",
    "import pandas as pd\n",
    "import numpy as np"
   ]
  },
  {
   "cell_type": "code",
   "execution_count": null,
   "metadata": {
    "collapsed": true
   },
   "outputs": [],
   "source": [
    "infiles = dict()\n",
    "outfiles = dict()\n",
    "\n",
    "for i in range(2011,2016):\n",
    "    infiles[i] = open(\"../../../data/population/zcta_\"+str(i)+\".json\",\"r\")\n",
    "    outfiles[i] = open(\"../../../data/population/zcta_\"+str(i)+\".csv\",\"w\")\n",
    "    writer = csv.writer(outfiles[i])\n",
    "    for row in json.loads(infiles[i].read()):\n",
    "        writer.writerow(row)"
   ]
  },
  {
   "cell_type": "code",
   "execution_count": 24,
   "metadata": {
    "collapsed": false
   },
   "outputs": [],
   "source": [
    "csv_all = dict()\n",
    "\n",
    "for i in range(2011,2016):\n",
    "    csv_all[i] = pd.read_csv(\"zcta_\"+str(i)+\".csv\")"
   ]
  },
  {
   "cell_type": "code",
   "execution_count": 93,
   "metadata": {
    "collapsed": false,
    "scrolled": false
   },
   "outputs": [],
   "source": [
    "def right(s, amount):\n",
    "    return s[-amount:]"
   ]
  },
  {
   "cell_type": "code",
   "execution_count": 126,
   "metadata": {
    "collapsed": false
   },
   "outputs": [],
   "source": [
    "for i in range(2011,2016):\n",
    "    csv_all[i][['zip code tabulation area']] = csv_all[i][['zip code tabulation area']].astype(str)"
   ]
  },
  {
   "cell_type": "code",
   "execution_count": 129,
   "metadata": {
    "collapsed": false
   },
   "outputs": [],
   "source": [
    "df_2011 = csv_all[2011]"
   ]
  },
  {
   "cell_type": "code",
   "execution_count": 135,
   "metadata": {
    "collapsed": false
   },
   "outputs": [],
   "source": [
    "for i in range(2011,2016):\n",
    "    for row in range(0,len(csv_all[i])):\n",
    "        csv_all[i].set_value(row,\"zip code tabulation area\",str(right(str(csv_all[i].iloc[[row],[0]]),5)))"
   ]
  },
  {
   "cell_type": "code",
   "execution_count": 141,
   "metadata": {
    "collapsed": false
   },
   "outputs": [],
   "source": [
    "for i in range(2011,2016):\n",
    "    csv_all[i].columns = ['name','all_ages_m','under_5_m','5_to_9_m','10_to_14_m','15_to_17_m','18_to_19_m','20_m','21_m',\n",
    "                         '22_to_24_m','25_to_29_m','30_to_34_m','35_to_39_m','40_to_44_m','45_to_49_m','50_to_54_m','55_to_59_m',\n",
    "                         '60_to_61_m','62_to_64_m','65_to_66_m','67_to_69_m','70_to_74_m','75_to_79_m','80_to_84_m','85_plus_m',\n",
    "                         'all_ages_f','under_5_f','5_to_9_f','10_to_14_f','15_to_17_f','18_to_19_f','20_f','21_f',\n",
    "                         '22_to_24_f','25_to_29_f','30_to_34_f','35_to_39_f','40_to_44_f','45_to_49_f','50_to_54_f','55_to_59_f',\n",
    "                         '60_to_61_f','62_to_64_f','65_to_66_f','67_to_69_f','70_to_74_f','75_to_79_f','80_to_84_f','85_plus_f','zcta']"
   ]
  },
  {
   "cell_type": "code",
   "execution_count": 156,
   "metadata": {
    "collapsed": false
   },
   "outputs": [],
   "source": [
    "for i in range(2011,2016):\n",
    "    outfiles[i] = open(\"../../../data/population/zcta_\"+str(i)+\".csv\",\"w\")\n",
    "    csv_all[i].to_csv(outfiles[i], sep = ',')"
   ]
  },
  {
   "cell_type": "code",
   "execution_count": 163,
   "metadata": {
    "collapsed": false
   },
   "outputs": [
    {
     "name": "stdout",
     "output_type": "stream",
     "text": [
      "33113\n",
      "33113\n",
      "33110\n",
      "33108\n",
      "33111\n"
     ]
    }
   ],
   "source": [
    "for i in range(2011,2016):\n",
    "    print len(csv_all[i]['name'])"
   ]
  },
  {
   "cell_type": "code",
   "execution_count": null,
   "metadata": {
    "collapsed": true
   },
   "outputs": [],
   "source": []
  }
 ],
 "metadata": {
  "anaconda-cloud": {},
  "kernelspec": {
   "display_name": "Python [conda root]",
   "language": "python",
   "name": "conda-root-py"
  },
  "language_info": {
   "codemirror_mode": {
    "name": "ipython",
    "version": 2
   },
   "file_extension": ".py",
   "mimetype": "text/x-python",
   "name": "python",
   "nbconvert_exporter": "python",
   "pygments_lexer": "ipython2",
   "version": "2.7.12"
  }
 },
 "nbformat": 4,
 "nbformat_minor": 1
}
